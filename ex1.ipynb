{
 "cells": [
  {
   "cell_type": "code",
   "execution_count": 5,
   "id": "5b8234fa-fbc2-400f-9b2a-44618736ad0d",
   "metadata": {},
   "outputs": [
    {
     "name": "stdout",
     "output_type": "stream",
     "text": [
      "tensor([[0.1595]])\n",
      "tensor([[0.1595]])\n"
     ]
    }
   ],
   "source": [
    "import torch\n",
    "\n",
    "# Part 1\n",
    "def activation(x):\n",
    "    return 1/(1+torch.exp(-x))\n",
    "\n",
    "\n",
    "torch.manual_seed(7)\n",
    "\n",
    "features = torch.randn((1, 5))\n",
    "weights = torch.randn_like(features)\n",
    "bias = torch.randn((1, 1))\n",
    "\n",
    "\n",
    "# ------------------------------EJERCICIO------------------------------------\n",
    "## Calculate the output of this network using the weights and bias tensors\n",
    "\n",
    "FirstOutput = activation(torch.sum(features * weights) + bias)\n",
    "\n",
    "## Calculate the output of this network using matrix multiplication\n",
    "MatrixOutput = activation(torch.matmul(features,weights.view(5, 1)) + bias)\n",
    "\n",
    "#---------------------------------------------------------------------------\n",
    "print(FirstOutput)\n",
    "print(MatrixOutput)"
   ]
  },
  {
   "cell_type": "code",
   "execution_count": 3,
   "id": "8ab99204-6938-4cbb-9ab5-44a8dc37fde7",
   "metadata": {},
   "outputs": [
    {
     "name": "stdout",
     "output_type": "stream",
     "text": [
      "tensor([[0.3171]])\n"
     ]
    }
   ],
   "source": [
    "import torch\n",
    "import numpy as np\n",
    "\n",
    "def activation(x):\n",
    "    return 1/(1+torch.exp(-x))\n",
    "    \n",
    "torch.manual_seed(7)\n",
    "features = torch.randn((1, 3))\n",
    "n_input = features.shape[1]     # Number of input units, must match number of input features\n",
    "n_hidden = 2                    # Number of hidden units \n",
    "n_output = 1                    # Number of output units\n",
    "\n",
    "# Weights for inputs to hidden layer\n",
    "W1 = torch.randn(n_input, n_hidden)\n",
    "# Weights for hidden layer to output layer\n",
    "W2 = torch.randn(n_hidden, n_output)\n",
    "\n",
    "# and bias terms for hidden and output layers\n",
    "B1 = torch.randn((1, n_hidden))\n",
    "B2 = torch.randn((1, n_output))\n",
    "\n",
    "\n",
    "# ------------------------------EJERCICIO------------------------------------\n",
    "## Calculate the output for this multi-layer network\n",
    "fInput = activation(torch.matmul(features,W1) + B1)\n",
    "MultiOutput = activation(torch.matmul(fInput,W2) + B2)\n",
    "print(MultiOutput)\n",
    "#---------------------------------------------------------------------------"
   ]
  },
  {
   "cell_type": "code",
   "execution_count": 7,
   "id": "6d36711d-037a-4baf-9d33-8262bf1513b8",
   "metadata": {},
   "outputs": [
    {
     "name": "stdout",
     "output_type": "stream",
     "text": [
      "El primer arreglo de numpy: \n",
      " [[0.38954418 0.04062172 0.51469841]\n",
      " [0.21418428 0.73011719 0.55723592]\n",
      " [0.73010027 0.37578019 0.51620522]\n",
      " [0.66900494 0.36942506 0.26744215]]\n",
      "\n",
      " El arreglo de numpy en tensores de pytorch: \n",
      " tensor([[0.38954418, 0.04062172, 0.51469841],\n",
      "        [0.21418428, 0.73011719, 0.55723592],\n",
      "        [0.73010027, 0.37578019, 0.51620522],\n",
      "        [0.66900494, 0.36942506, 0.26744215]], dtype=torch.float64)\n",
      "\n",
      " El arreglo de numpy despues de hacer una ejecucion en el tensor: \n",
      " [[0.77908836 0.08124344 1.02939681]\n",
      " [0.42836856 1.46023437 1.11447184]\n",
      " [1.46020055 0.75156038 1.03241043]\n",
      " [1.33800988 0.73885012 0.5348843 ]]\n"
     ]
    }
   ],
   "source": [
    "import numpy as np\n",
    "import torch\n",
    "\n",
    "np.set_printoptions(precision=8)\n",
    "a = np.random.rand(4,3)\n",
    "print(f\"El primer arreglo de numpy: \\n {a}\")\n",
    "\n",
    "torch.set_printoptions(precision=8)\n",
    "b = torch.from_numpy(a)\n",
    "print(f\"\\n El arreglo de numpy en tensores de pytorch: \\n {b}\")\n",
    "\n",
    "b.numpy()\n",
    "\n",
    "# Cualquier operacion hecha desde un lado, cambia los dos lados\n",
    "b.mul_(2)\n",
    "\n",
    "print(f\"\\n El arreglo de numpy despues de hacer una ejecucion en el tensor: \\n {a}\")"
   ]
  },
  {
   "cell_type": "code",
   "execution_count": null,
   "id": "11c189b9-1574-4cc0-ad68-3bb795736d11",
   "metadata": {},
   "outputs": [],
   "source": []
  }
 ],
 "metadata": {
  "kernelspec": {
   "display_name": "Python 3 (ipykernel)",
   "language": "python",
   "name": "python3"
  },
  "language_info": {
   "codemirror_mode": {
    "name": "ipython",
    "version": 3
   },
   "file_extension": ".py",
   "mimetype": "text/x-python",
   "name": "python",
   "nbconvert_exporter": "python",
   "pygments_lexer": "ipython3",
   "version": "3.12.3"
  }
 },
 "nbformat": 4,
 "nbformat_minor": 5
}
